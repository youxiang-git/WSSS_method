{
 "cells": [
  {
   "cell_type": "code",
   "execution_count": 1,
   "metadata": {},
   "outputs": [],
   "source": [
    "import torch\n",
    "import os\n",
    "import csv\n",
    "from dataloader import CustomVOCDataset\n",
    "from torch.utils.data import DataLoader\n",
    "import torchvision.transforms.functional as F\n",
    "from torchvision.models.segmentation import fcn_resnet50, FCN_ResNet50_Weights\n",
    "from PIL import Image\n",
    "from eval import model_eval\n",
    "\n",
    "device = torch.device(\"cuda\" if torch.cuda.is_available() else \"cpu\")\n"
   ]
  },
  {
   "cell_type": "code",
   "execution_count": 2,
   "metadata": {},
   "outputs": [
    {
     "name": "stdout",
     "output_type": "stream",
     "text": [
      "functools.partial(<class 'torchvision.transforms._presets.SemanticSegmentation'>, resize_size=520)\n"
     ]
    }
   ],
   "source": [
    "print(FCN_ResNet50_Weights.COCO_WITH_VOC_LABELS_V1.transforms)"
   ]
  },
  {
   "cell_type": "code",
   "execution_count": 3,
   "metadata": {},
   "outputs": [],
   "source": [
    "train = CustomVOCDataset(\"VOCtrainval_11-May-2012\", 'train',True)\n",
    "val = CustomVOCDataset(\"VOCtrainval_11-May-2012\", 'val', False)\n",
    "\n",
    "val_loader = DataLoader(val, batch_size=16, shuffle=True, num_workers=12)\n",
    "\n",
    "img, mask = val.__getitem__(0)"
   ]
  },
  {
   "cell_type": "code",
   "execution_count": 10,
   "metadata": {},
   "outputs": [],
   "source": [
    "img2 = Image.open(\"/home/youxiang/Desktop/FYP/WSSS_method/VOCtrainval_11-May-2012/VOCdevkit/VOC2012/JPEGImages/2007_000027.jpg\")\n",
    "img2 = F.to_tensor(img2).unsqueeze(0)"
   ]
  },
  {
   "cell_type": "code",
   "execution_count": 11,
   "metadata": {},
   "outputs": [],
   "source": [
    "wsss_model = fcn_resnet50(weights=FCN_ResNet50_Weights.COCO_WITH_VOC_LABELS_V1, num_classes=21)\n",
    "\n",
    "wsss_model.load_state_dict(\n",
    "    torch.load(\"model_weights/voc_model_epoch_15_weights.pth\")\n",
    ")\n",
    "\n",
    "outputs = wsss_model(img2)[\"out\"]\n"
   ]
  },
  {
   "cell_type": "code",
   "execution_count": 13,
   "metadata": {},
   "outputs": [
    {
     "name": "stdout",
     "output_type": "stream",
     "text": [
      "tensor([[[0, 0, 0,  ..., 0, 0, 0],\n",
      "         [0, 0, 0,  ..., 0, 0, 0],\n",
      "         [0, 0, 0,  ..., 0, 0, 0],\n",
      "         ...,\n",
      "         [0, 0, 0,  ..., 0, 0, 0],\n",
      "         [0, 0, 0,  ..., 0, 0, 0],\n",
      "         [0, 0, 0,  ..., 0, 0, 0]]])\n"
     ]
    }
   ],
   "source": [
    "_, preds = torch.max(outputs, 1)\n",
    "img = F.to_pil_image(img2.squeeze(0))\n",
    "img.show()\n",
    "print(preds)\n",
    "img2 = F.to_pil_image(preds.type(torch.uint8), 'L')\n",
    "img2.show()"
   ]
  },
  {
   "cell_type": "code",
   "execution_count": 6,
   "metadata": {},
   "outputs": [
    {
     "name": "stdout",
     "output_type": "stream",
     "text": [
      "torch.int64\n"
     ]
    }
   ],
   "source": []
  }
 ],
 "metadata": {
  "kernelspec": {
   "display_name": "wsss_method",
   "language": "python",
   "name": "python3"
  },
  "language_info": {
   "codemirror_mode": {
    "name": "ipython",
    "version": 3
   },
   "file_extension": ".py",
   "mimetype": "text/x-python",
   "name": "python",
   "nbconvert_exporter": "python",
   "pygments_lexer": "ipython3",
   "version": "3.11.5"
  },
  "orig_nbformat": 4
 },
 "nbformat": 4,
 "nbformat_minor": 2
}
